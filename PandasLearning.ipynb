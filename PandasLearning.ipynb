{
 "cells": [
  {
   "cell_type": "code",
   "execution_count": 1,
   "id": "f3bfd515",
   "metadata": {},
   "outputs": [
    {
     "data": {
      "text/plain": [
       "(        Date  DateValue\n",
       " 0 2012-06-08        388\n",
       " 1 2012-06-09        388\n",
       " 2 2012-06-10        388\n",
       " 3 2012-06-11        389\n",
       " 4 2012-06-12        389,\n",
       "          Date  DateValue\n",
       " 24 2012-07-02        392\n",
       " 25 2012-07-03        392\n",
       " 26 2012-07-04        392\n",
       " 27 2012-07-05        392\n",
       " 28 2012-07-06        392)"
      ]
     },
     "execution_count": 1,
     "metadata": {},
     "output_type": "execute_result"
    }
   ],
   "source": [
    "import pandas as pd\n",
    "import numpy as np\n",
    "from datetime import datetime as dt\n",
    "data = {u'2012-06-08': 388,\n",
    " u'2012-06-09': 388,\n",
    " u'2012-06-10': 388,\n",
    " u'2012-06-11': 389,\n",
    " u'2012-06-12': 389,\n",
    " u'2012-06-13': 389,\n",
    " u'2012-06-14': 389,\n",
    " u'2012-06-15': 389,\n",
    " u'2012-06-16': 389,\n",
    " u'2012-06-17': 389,\n",
    " u'2012-06-18': 390,\n",
    " u'2012-06-19': 390,\n",
    " u'2012-06-20': 390,\n",
    " u'2012-06-21': 390,\n",
    " u'2012-06-22': 390,\n",
    " u'2012-06-23': 390,\n",
    " u'2012-06-24': 390,\n",
    " u'2012-06-25': 391,\n",
    " u'2012-06-26': 391,\n",
    " u'2012-06-27': 391,\n",
    " u'2012-06-28': 391,\n",
    " u'2012-06-29': 391,\n",
    " u'2012-06-30': 391,\n",
    " u'2012-07-01': 391,\n",
    " u'2012-07-02': 392,\n",
    " u'2012-07-03': 392,\n",
    " u'2012-07-04': 392,\n",
    " u'2012-07-05': 392,\n",
    " u'2012-07-06': 392}\n",
    "df = pd.DataFrame(list(data.items()), columns=['Date', 'DateValue'])\n",
    "df['Date'] = pd.to_datetime(df['Date'])\n",
    "df.head(), df.tail()\n",
    "\n"
   ]
  },
  {
   "cell_type": "code",
   "execution_count": 2,
   "id": "003aec7b",
   "metadata": {},
   "outputs": [
    {
     "data": {
      "text/plain": [
       "(        Date  Money\n",
       " 0 2012-06-08    388\n",
       " 1 2012-06-09    388\n",
       " 2 2012-06-10    388\n",
       " 3 2012-06-11    389\n",
       " 4 2012-06-12    389,\n",
       "          Date  Money\n",
       " 24 2012-07-02    392\n",
       " 25 2012-07-03    392\n",
       " 26 2012-07-04    392\n",
       " 27 2012-07-05    392\n",
       " 28 2012-07-06    392)"
      ]
     },
     "execution_count": 2,
     "metadata": {},
     "output_type": "execute_result"
    }
   ],
   "source": [
    "df.rename(columns = {'DateValue':'Money'}, inplace = True)\n",
    "df.head(), df.tail()"
   ]
  },
  {
   "cell_type": "code",
   "execution_count": 7,
   "id": "e2805164",
   "metadata": {},
   "outputs": [],
   "source": [
    "df['rres'] =  (df['Money']*-1).where((df['Date']>dt(2012, 6, 26))| (df['Money']>100) , df['Money'])"
   ]
  },
  {
   "cell_type": "code",
   "execution_count": 8,
   "id": "bcd54d93",
   "metadata": {},
   "outputs": [
    {
     "data": {
      "text/plain": [
       "(        Date  Money  rres\n",
       " 0 2012-06-08    388  -388\n",
       " 1 2012-06-09    388  -388\n",
       " 2 2012-06-10    388  -388\n",
       " 3 2012-06-11    389  -389\n",
       " 4 2012-06-12    389  -389,\n",
       "          Date  Money  rres\n",
       " 24 2012-07-02    392  -392\n",
       " 25 2012-07-03    392  -392\n",
       " 26 2012-07-04    392  -392\n",
       " 27 2012-07-05    392  -392\n",
       " 28 2012-07-06    392  -392)"
      ]
     },
     "execution_count": 8,
     "metadata": {},
     "output_type": "execute_result"
    }
   ],
   "source": [
    "df.head(), df.tail()"
   ]
  },
  {
   "cell_type": "code",
   "execution_count": 10,
   "id": "c8af6a6a",
   "metadata": {},
   "outputs": [
    {
     "data": {
      "text/html": [
       "<div>\n",
       "<style scoped>\n",
       "    .dataframe tbody tr th:only-of-type {\n",
       "        vertical-align: middle;\n",
       "    }\n",
       "\n",
       "    .dataframe tbody tr th {\n",
       "        vertical-align: top;\n",
       "    }\n",
       "\n",
       "    .dataframe thead th {\n",
       "        text-align: right;\n",
       "    }\n",
       "</style>\n",
       "<table border=\"1\" class=\"dataframe\">\n",
       "  <thead>\n",
       "    <tr style=\"text-align: right;\">\n",
       "      <th></th>\n",
       "      <th>name</th>\n",
       "      <th>model</th>\n",
       "      <th>country</th>\n",
       "      <th>price</th>\n",
       "    </tr>\n",
       "  </thead>\n",
       "  <tbody>\n",
       "    <tr>\n",
       "      <th>0</th>\n",
       "      <td>Toyota</td>\n",
       "      <td>Mark2</td>\n",
       "      <td>Japan</td>\n",
       "      <td>20000</td>\n",
       "    </tr>\n",
       "    <tr>\n",
       "      <th>1</th>\n",
       "      <td>VAZ</td>\n",
       "      <td>2109</td>\n",
       "      <td>Russia</td>\n",
       "      <td>5000</td>\n",
       "    </tr>\n",
       "    <tr>\n",
       "      <th>2</th>\n",
       "      <td>BMW</td>\n",
       "      <td>m5 f90</td>\n",
       "      <td>Germany</td>\n",
       "      <td>200000</td>\n",
       "    </tr>\n",
       "    <tr>\n",
       "      <th>3</th>\n",
       "      <td>Suzuki</td>\n",
       "      <td>Grand Vitara</td>\n",
       "      <td>South Korea</td>\n",
       "      <td>18000</td>\n",
       "    </tr>\n",
       "    <tr>\n",
       "      <th>4</th>\n",
       "      <td>Mercedez-Benz</td>\n",
       "      <td>W211</td>\n",
       "      <td>Germany</td>\n",
       "      <td>6000</td>\n",
       "    </tr>\n",
       "  </tbody>\n",
       "</table>\n",
       "</div>"
      ],
      "text/plain": [
       "            name         model      country   price\n",
       "0         Toyota         Mark2        Japan   20000\n",
       "1            VAZ          2109       Russia    5000\n",
       "2            BMW        m5 f90      Germany  200000\n",
       "3         Suzuki  Grand Vitara  South Korea   18000\n",
       "4  Mercedez-Benz          W211      Germany    6000"
      ]
     },
     "execution_count": 10,
     "metadata": {},
     "output_type": "execute_result"
    }
   ],
   "source": [
    "cars = {'name':['Toyota', 'VAZ', 'BMW', 'Suzuki', 'Mercedez-Benz'],\n",
    "        'model': ['Mark2', '2109', 'm5 f90','Grand Vitara', 'W211'],\n",
    "        'country':['Japan', 'Russia', 'Germany', 'South Korea', 'Germany'],\n",
    "        'price':[20000,5000,200000,18000, 6000]}\n",
    "df2 = pd.DataFrame(cars)\n",
    "df2"
   ]
  },
  {
   "cell_type": "code",
   "execution_count": 19,
   "id": "9a16310d",
   "metadata": {},
   "outputs": [],
   "source": [
    "data ={'cars': [{'title': 'Объявление «ВАЗ (LADA) Granta 1.6  MT, 2013, 123 000 км» 5 фотографий', 'link': '/chelyabinsk/avtomobili/vaz_lada_granta_1.6_mt_2013_123_000_km_3345842355'}, {'title': 'Объявление «ВАЗ (LADA) Vesta Cross, 2021» 24 фотографии', 'link': '/ekaterinburg/avtomobili/vaz_lada_vesta_cross_2021_3282039387'}, {'title': 'Объявление «ВАЗ (LADA) 2111 1.5  MT, 2003, 150 000 км» 7 фотографий', 'link': '/zlatoust/avtomobili/vaz_lada_2111_1.5_mt_2003_150_000_km_3127695292'}, {'title': 'Объявление «ВАЗ (LADA) 2110 1.5  MT, 2004, 157 000 км» 8 фотографий', 'link': '/chelyabinsk/avtomobili/vaz_lada_2110_1.5_mt_2004_157_000_km_3226263197'}, {'title': 'Объявление «ВАЗ (LADA) 2108 1.5  MT, 1999, битый, 165 000 км» 5 фотографий', 'link': '/argayash/avtomobili/vaz_lada_2108_1.5_mt_1999_bityy_165_000_km_3128782484'}, {'title': 'Объявление «ВАЗ (LADA) Vesta, 2020» 32 фотографии', 'link': '/ekaterinburg/avtomobili/vaz_lada_vesta_2020_3088366681'}, {'title': 'Объявление «ВАЗ (LADA) 2104, 1988» 8 фотографий', 'link': '/zlatoust/avtomobili/vaz_lada_2104_1988_3148562775'}, {'title': 'Объявление «ВАЗ (LADA) 2107 1.5  MT, 2005, 54 330 км» 15 фотографий', 'link': '/chelyabinsk/avtomobili/vaz_lada_2107_1.5_mt_2005_54_330_km_3338547543'}, {'title': 'Объявление «ВАЗ (LADA) Vesta, 2023» с фотографией', 'link': '/chelyabinsk/avtomobili/vaz_lada_vesta_2023_3094383859'}, {'title': 'Объявление «ВАЗ (LADA) Vesta, 2023» с фотографией', 'link': '/ekaterinburg/avtomobili/vaz_lada_vesta_2023_2992808823'}, {'title': 'Объявление «ВАЗ (LADA) Vesta 1.6  MT, 2023» с фотографией', 'link': '/miass/avtomobili/vaz_lada_vesta_1.6_mt_2023_3107255930'}, {'title': 'Объявление «ВАЗ (LADA) 2109, 2003» 4 фотографии', 'link': '/kasli/avtomobili/vaz_lada_2109_2003_2908569583'}, {'title': 'Объявление «ВАЗ (LADA) 2111 1.6  MT, 2007, 239 900 км» 17 фотографий', 'link': '/chelyabinsk/avtomobili/vaz_lada_2111_1.6_mt_2007_239_900_km_3152854469'}, {'title': 'Объявление «ВАЗ (LADA) 2113 Samara 1.6  MT, 2012, 65 000 км» 16 фотографий', 'link': '/chelyabinsk/avtomobili/vaz_lada_2113_samara_1.6_mt_2012_65_000_km_2774973560'}, {'title': 'Объявление «ВАЗ (LADA) 2115 Samara 1.5  MT, 2003, 237 000 км» 2 фотографии', 'link': '/nizhniy_tagil/avtomobili/vaz_lada_2115_samara_1.5_mt_2003_237_000_km_3175363837'}, {'title': 'Объявление «ВАЗ (LADA) 2112 1.6  MT, 2006, 250 000 км» 5 фотографий', 'link': '/alapaevsk/avtomobili/vaz_lada_2112_1.6_mt_2006_250_000_km_3102886393'}, {'title': 'Объявление «ВАЗ (LADA) 2121 (4x4) Urban 1.7  MT, 2018, 47 512 км» 11 фотографий', 'link': '/yaroslavl/avtomobili/vaz_lada_2121_4x4_urban_1.7_mt_2018_47_512_km_2338958948'}, {'title': 'Объявление «ВАЗ (LADA) 2104, 1985» 6 фотографий', 'link': '/snezhinsk/avtomobili/vaz_lada_2104_1985_3059591090'}, {'title': 'Объявление «ВАЗ (LADA) Vesta 1.6  MT, 2017, битый, 185 000 км» 11 фотографий', 'link': '/chelyabinsk/avtomobili/vaz_lada_vesta_1.6_mt_2017_bityy_185_000_km_3458456989'}, {'title': 'Объявление «ВАЗ (LADA) Granta, 2016» 15 фотографий', 'link': '/ekaterinburg/avtomobili/vaz_lada_granta_2016_2895447047'}, {'title': 'Объявление «ВАЗ (LADA) XRAY Cross, 2019» 17 фотографий', 'link': '/ekaterinburg/avtomobili/vaz_lada_xray_cross_2019_3154313860'}, {'title': 'Объявление «ВАЗ (LADA) Priora 1.6  MT, 2016, битый, 195 000 км» 7 фотографий', 'link': '/krasnouralsk/avtomobili/vaz_lada_priora_1.6_mt_2016_bityy_195_000_km_3132506877'}, {'title': 'Объявление «ВАЗ (LADA) 4x4 (Нива) 1.7  MT, 2019, 41 000 км» 7 фотографий', 'link': '/ekaterinburg/avtomobili/vaz_lada_4x4_niva_1.7_mt_2019_41_000_km_3458480874'}, {'title': 'Объявление «ВАЗ (LADA) Priora, 2011» 32 фотографии', 'link': '/zlatoust/avtomobili/vaz_lada_priora_2011_3136347543'}, {'title': 'Объявление «ВАЗ (LADA) Priora 1.6  MT, 2010, 127 790 км» 6 фотографий', 'link': '/chelyabinsk/avtomobili/vaz_lada_priora_1.6_mt_2010_127_790_km_3127128010'}, {'title': 'Объявление «ВАЗ (LADA) Granta, 2019» 7 фотографий', 'link': '/ekaterinburg/avtomobili/vaz_lada_granta_2019_3010945212'}, {'title': 'Объявление «ВАЗ (LADA) 4x4 (Нива) 1.7  MT, 2018, 26 512 км» 15 фотографий', 'link': '/chelyabinsk/avtomobili/vaz_lada_4x4_niva_1.7_mt_2018_26_512_km_2564063516'}, {'title': 'Объявление «ВАЗ (LADA) 2114 Samara 1.6  MT, 2011, 161 000 км» 12 фотографий', 'link': '/ekaterinburg/avtomobili/vaz_lada_2114_samara_1.6_mt_2011_161_000_km_3139472675'}, {'title': 'Объявление «ВАЗ (LADA) 2112 1.5  MT, 2004, 123 456 км» 8 фотографий', 'link': '/chelyabinsk/avtomobili/vaz_lada_2112_1.5_mt_2004_123_456_km_3216135742'}, {'title': 'Объявление «ВАЗ (LADA) 2115 Samara 1.5  MT, 2004, 250 000 км» 3 фотографии', 'link': '/ekaterinburg/avtomobili/vaz_lada_2115_samara_1.5_mt_2004_250_000_km_3132086278'}, {'title': 'Объявление «ВАЗ (LADA) Granta, 2021» 30 фотографий', 'link': '/ekaterinburg/avtomobili/vaz_lada_granta_2021_3088705449'}, {'title': 'Объявление «ВАЗ (LADA) 2107 1.6  MT, 2011, 28 000 км» 40 фотографий', 'link': '/ekaterinburg/avtomobili/vaz_lada_2107_1.6_mt_2011_28_000_km_3083365652'}, {'title': 'Объявление «ВАЗ (LADA) 2111, 2006» 14 фотографий', 'link': '/sverdlovskaya_oblast_berezovskiy/avtomobili/vaz_lada_2111_2006_3126495574'}, {'title': 'Объявление «ВАЗ (LADA) Niva, 2020» 11 фотографий', 'link': '/ekaterinburg/avtomobili/vaz_lada_niva_2020_3130607665'}, {'title': 'Объявление «ВАЗ (LADA) 2115 Samara 1.5  MT, 2001, 198 000 км» 6 фотографий', 'link': '/nizhniy_tagil/avtomobili/vaz_lada_2115_samara_1.5_mt_2001_198_000_km_3244379729'}, {'title': 'Объявление «ВАЗ (LADA) Granta, 2021» 9 фотографий', 'link': '/sverdlovskaya_oblast_zarechnyy/avtomobili/vaz_lada_granta_2021_2899713043'}, {'title': 'Объявление «ВАЗ (LADA) Vesta 1.6  MT, 2016, 176 000 км» 8 фотографий', 'link': '/ekaterinburg/avtomobili/vaz_lada_vesta_1.6_mt_2016_176_000_km_3238205372'}, {'title': 'Объявление «ВАЗ (LADA) 2110 1.6  MT, 2002, 250 000 км» 7 фотографий', 'link': '/sverdlovskaya_oblast_berezovskiy/avtomobili/vaz_lada_2110_1.6_mt_2002_250_000_km_3133951666'}, {'title': 'Объявление «ВАЗ (LADA) 1111 Ока 0.7  MT, 2001, 93 715 км» 4 фотографии', 'link': '/sverdlovskaya_oblast_beloyarskiy/avtomobili/vaz_lada_1111_oka_0.7_mt_2001_93_715_km_3127277919'}, {'title': 'Объявление «ВАЗ (LADA) 2115 Samara, 2009» 12 фотографий', 'link': '/ekaterinburg/avtomobili/vaz_lada_2115_samara_2009_3306146127'}, {'title': 'Объявление «ВАЗ (LADA) Kalina, 2016» 4 фотографии', 'link': '/alapaevsk/avtomobili/vaz_lada_kalina_2016_3124136807'}, {'title': 'Объявление «ВАЗ (LADA) Vesta, 2020» 10 фотографий', 'link': '/ekaterinburg/avtomobili/vaz_lada_vesta_2020_3217739939'}, {'title': 'Объявление «ВАЗ (LADA) Granta 1.6  MT, 2017, 153 000 км» 19 фотографий', 'link': '/chelyabinsk/avtomobili/vaz_lada_granta_1.6_mt_2017_153_000_km_3251922930'}, {'title': 'Объявление «ВАЗ (LADA) Vesta Cross, 2021» 17 фотографий', 'link': '/ekaterinburg/avtomobili/vaz_lada_vesta_cross_2021_3218370021'}, {'title': 'Объявление «ВАЗ (LADA) Vesta 1.6  MT, 2018, 30 302 км» 21 фотография', 'link': '/chelyabinsk/avtomobili/vaz_lada_vesta_1.6_mt_2018_30_302_km_3127181239'}, {'title': 'Объявление «ВАЗ (LADA) 2112 1.6  MT, 2006, 140 000 км» 9 фотографий', 'link': '/kyshtym/avtomobili/vaz_lada_2112_1.6_mt_2006_140_000_km_3175034594'}, {'title': 'Объявление «ВАЗ (LADA) 2107 1.6  MT, 2005, 125 000 км» 7 фотографий', 'link': '/kirovgrad/avtomobili/vaz_lada_2107_1.6_mt_2005_125_000_km_3138958791'}, {'title': 'Объявление «ВАЗ (LADA) Priora 1.6  MT, 2008, 220 000 км» 12 фотографий', 'link': '/tyumen/avtomobili/vaz_lada_priora_1.6_mt_2008_220_000_km_2312783145'}, {'title': 'Объявление «ВАЗ (LADA) Priora 1.6  MT, 2013, 103 553 км» 40 фотографий', 'link': '/chelyabinsk/avtomobili/vaz_lada_priora_1.6_mt_2013_103_553_km_3103152876'}, {'title': 'Объявление «ВАЗ (LADA) 2114 Samara, 2005» 18 фотографий', 'link': '/chelyabinsk/avtomobili/vaz_lada_2114_samara_2005_3172914182'}, {'title': 'Объявление «ВАЗ (LADA) 2115 Samara, 2006» 9 фотографий', 'link': '/bogdanovich/avtomobili/vaz_lada_2115_samara_2006_3104322631'}, {'title': 'Объявление «ВАЗ (LADA) Granta Cross 1.6  AMT, 2019, 27 428 км» 26 фотографий', 'link': '/ekaterinburg/avtomobili/vaz_lada_granta_cross_1.6_amt_2019_27_428_km_3250662382'}, {'title': 'Объявление «ВАЗ (LADA) Vesta 1.6  CVT, 2020, 52 365 км» 20 фотографий', 'link': '/ekaterinburg/avtomobili/vaz_lada_vesta_1.6_cvt_2020_52_365_km_3122180397'}]}"
   ]
  },
  {
   "cell_type": "code",
   "execution_count": 20,
   "id": "7086ff67",
   "metadata": {},
   "outputs": [],
   "source": [
    "import pandas as pd\n",
    "import json\n",
    "from pandas import json_normalize"
   ]
  },
  {
   "cell_type": "code",
   "execution_count": 21,
   "id": "96556f1a",
   "metadata": {},
   "outputs": [],
   "source": [
    "df3 = json_normalize(json.loads(data)['technologies'])"
   ]
  },
  {
   "cell_type": "code",
   "execution_count": 15,
   "id": "6f3ee66c",
   "metadata": {},
   "outputs": [
    {
     "data": {
      "text/html": [
       "<div>\n",
       "<style scoped>\n",
       "    .dataframe tbody tr th:only-of-type {\n",
       "        vertical-align: middle;\n",
       "    }\n",
       "\n",
       "    .dataframe tbody tr th {\n",
       "        vertical-align: top;\n",
       "    }\n",
       "\n",
       "    .dataframe thead th {\n",
       "        text-align: right;\n",
       "    }\n",
       "</style>\n",
       "<table border=\"1\" class=\"dataframe\">\n",
       "  <thead>\n",
       "    <tr style=\"text-align: right;\">\n",
       "      <th></th>\n",
       "      <th>Courses</th>\n",
       "      <th>Fee</th>\n",
       "      <th>Duration</th>\n",
       "    </tr>\n",
       "  </thead>\n",
       "  <tbody>\n",
       "    <tr>\n",
       "      <th>0</th>\n",
       "      <td>Spark</td>\n",
       "      <td>22000</td>\n",
       "      <td>40Days</td>\n",
       "    </tr>\n",
       "    <tr>\n",
       "      <th>1</th>\n",
       "      <td>PySpark</td>\n",
       "      <td>25000</td>\n",
       "      <td>60Days</td>\n",
       "    </tr>\n",
       "    <tr>\n",
       "      <th>2</th>\n",
       "      <td>Hadoop</td>\n",
       "      <td>23000</td>\n",
       "      <td>50Days</td>\n",
       "    </tr>\n",
       "  </tbody>\n",
       "</table>\n",
       "</div>"
      ],
      "text/plain": [
       "   Courses    Fee Duration\n",
       "0    Spark  22000   40Days\n",
       "1  PySpark  25000   60Days\n",
       "2   Hadoop  23000   50Days"
      ]
     },
     "execution_count": 15,
     "metadata": {},
     "output_type": "execute_result"
    }
   ],
   "source": [
    "df3\n"
   ]
  },
  {
   "cell_type": "code",
   "execution_count": null,
   "id": "afae83d6",
   "metadata": {},
   "outputs": [],
   "source": []
  }
 ],
 "metadata": {
  "kernelspec": {
   "display_name": "Python 3 (ipykernel)",
   "language": "python",
   "name": "python3"
  },
  "language_info": {
   "codemirror_mode": {
    "name": "ipython",
    "version": 3
   },
   "file_extension": ".py",
   "mimetype": "text/x-python",
   "name": "python",
   "nbconvert_exporter": "python",
   "pygments_lexer": "ipython3",
   "version": "3.8.0"
  }
 },
 "nbformat": 4,
 "nbformat_minor": 5
}